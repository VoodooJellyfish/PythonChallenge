{
 "cells": [
  {
   "cell_type": "code",
   "execution_count": 45,
   "metadata": {},
   "outputs": [],
   "source": [
    "import os\n",
    "import csv\n",
    "\n",
    "csvpath = os.path.join(\"Resources\",\"budget_data.csv\")"
   ]
  },
  {
   "cell_type": "code",
   "execution_count": 49,
   "metadata": {},
   "outputs": [
    {
     "name": "stdout",
     "output_type": "stream",
     "text": [
      "532869.0\n",
      "Financial Analysis:\n",
      "------------------------------------------\n",
      "Total months: 86\n",
      "Net profit: $ 38382578.0\n",
      "Average Profit Change: $ -2315.1176470588234\n",
      "Greatest Increase in Profit: Feb-2017 $ 1926159.0\n",
      "Greatest Decrease in Profit: Feb-2017 $ -2196167.0\n"
     ]
    }
   ],
   "source": [
    "with open(csvpath) as csvfile:\n",
    "    \n",
    "    budget_data = csv.reader(csvfile, delimiter=',')\n",
    "    header = next(budget_data)\n",
    "    \n",
    "    date = []\n",
    "    profit = []\n",
    "    profit_change = []\n",
    "    \n",
    "    \n",
    "    for month in budget_data:\n",
    "\n",
    "        profit.append(float(month[1]))\n",
    "        date.append(row[0])\n",
    "        \n",
    "    for i in range(1,len(profit)):\n",
    "        profit_change.append(profit[i] - profit[i-1])\n",
    "        average_change = sum(profit_change)/len(profit_change)\n",
    "        \n",
    "        max_change = max(profit_change)\n",
    "        min_change = min(profit_change)\n",
    "        \n",
    "        max_date = str(date[profit_change.index(max(profit_change))])\n",
    "        min_date = str(date[profit_change.index(min(profit_change))])\n",
    "        \n",
    "        \n",
    "    print(\"Financial Analysis:\")\n",
    "    print(\"------------------------------------------\")\n",
    "    print(f\"Total months:\", len(date)) \n",
    "    print(\"Net profit: $\", sum(profit))\n",
    "    print(\"Average Profit Change: $\", (average_change))\n",
    "    print(\"Greatest Increase in Profit:\", max_date,\"$\", max_change,)\n",
    "    print(\"Greatest Decrease in Profit:\", min_date,\"$\", min_change,)\n",
    "        \n",
    "        \n",
    "    output_file = os.path.join(\"Analysis\", \"PyBank\")\n",
    "    writer = open(output_file, 'w')\n",
    "    \n",
    "    writer.write(\"Financial Analysis:\\n\")\n",
    "    writer.write(\"------------------------------------------\")\n",
    "    writer.write(f\"Total months:\", len(date))\n",
    "    writer.write(\"Net profit: $\", sum(profit))\n",
    "    writer.write(\"Average Profit Change: $\", (average_change))\n",
    "    writer.write(\"Greatest Increase in Profit:\", max_date,\"$\", max_change,)\n",
    "    writer.write(\"Greatest Decrease in Profit:\", min_date,\"$\", min_change,)\n",
    "        \n"
   ]
  },
  {
   "cell_type": "code",
   "execution_count": null,
   "metadata": {},
   "outputs": [],
   "source": []
  }
 ],
 "metadata": {
  "kernelspec": {
   "display_name": "Python 3",
   "language": "python",
   "name": "python3"
  },
  "language_info": {
   "codemirror_mode": {
    "name": "ipython",
    "version": 3
   },
   "file_extension": ".py",
   "mimetype": "text/x-python",
   "name": "python",
   "nbconvert_exporter": "python",
   "pygments_lexer": "ipython3",
   "version": "3.7.9"
  }
 },
 "nbformat": 4,
 "nbformat_minor": 4
}
