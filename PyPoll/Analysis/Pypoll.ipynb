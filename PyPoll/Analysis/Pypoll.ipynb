{
 "cells": [
  {
   "cell_type": "code",
   "execution_count": 1,
   "metadata": {},
   "outputs": [],
   "source": [
    "import os\n",
    "import csv\n",
    "\n",
    "csvpath = os.path.join(\"election_data.csv\")"
   ]
  },
  {
   "cell_type": "code",
   "execution_count": 2,
   "metadata": {},
   "outputs": [
    {
     "ename": "FileNotFoundError",
     "evalue": "[Errno 2] No such file or directory: 'election_data.csv'",
     "output_type": "error",
     "traceback": [
      "\u001b[0;31m---------------------------------------------------------------------------\u001b[0m",
      "\u001b[0;31mFileNotFoundError\u001b[0m                         Traceback (most recent call last)",
      "\u001b[0;32m<ipython-input-2-2d9a0e3792b0>\u001b[0m in \u001b[0;36m<module>\u001b[0;34m\u001b[0m\n\u001b[0;32m----> 1\u001b[0;31m \u001b[0;32mwith\u001b[0m \u001b[0mopen\u001b[0m\u001b[0;34m(\u001b[0m\u001b[0mcsvpath\u001b[0m\u001b[0;34m)\u001b[0m \u001b[0;32mas\u001b[0m \u001b[0mcsvfile\u001b[0m\u001b[0;34m:\u001b[0m\u001b[0;34m\u001b[0m\u001b[0;34m\u001b[0m\u001b[0m\n\u001b[0m\u001b[1;32m      2\u001b[0m \u001b[0;34m\u001b[0m\u001b[0m\n\u001b[1;32m      3\u001b[0m     \u001b[0melection_data\u001b[0m \u001b[0;34m=\u001b[0m \u001b[0mcsv\u001b[0m\u001b[0;34m.\u001b[0m\u001b[0mreader\u001b[0m\u001b[0;34m(\u001b[0m\u001b[0mcsvfile\u001b[0m\u001b[0;34m,\u001b[0m \u001b[0mdelimiter\u001b[0m\u001b[0;34m=\u001b[0m\u001b[0;34m','\u001b[0m\u001b[0;34m)\u001b[0m\u001b[0;34m\u001b[0m\u001b[0;34m\u001b[0m\u001b[0m\n\u001b[1;32m      4\u001b[0m     \u001b[0mheader\u001b[0m \u001b[0;34m=\u001b[0m \u001b[0mnext\u001b[0m\u001b[0;34m(\u001b[0m\u001b[0melection_data\u001b[0m\u001b[0;34m)\u001b[0m\u001b[0;34m\u001b[0m\u001b[0;34m\u001b[0m\u001b[0m\n\u001b[1;32m      5\u001b[0m \u001b[0;34m\u001b[0m\u001b[0m\n",
      "\u001b[0;31mFileNotFoundError\u001b[0m: [Errno 2] No such file or directory: 'election_data.csv'"
     ]
    }
   ],
   "source": [
    "with open(csvpath) as csvfile:\n",
    "    \n",
    "    election_data = csv.reader(csvfile, delimiter=',')\n",
    "    header = next(election_data)\n",
    "    \n",
    "    vote_total = []\n",
    "    vote_count = 0\n",
    "    Khan_count = 0\n",
    "    Li_count = 0\n",
    "    Correy_count = 0\n",
    "    Tooley_count = 0\n",
    "    \n",
    "    \n",
    "    for row in election_data:\n",
    "        \n",
    "        vote_total.append(row[2])\n",
    "        vote_count = vote_count + 1\n",
    "       \n",
    "        if row[2] == \"Khan\":\n",
    "            Khan_count = Khan_count + 1\n",
    "            perKhan = round((Khan_count / vote_count)*100 , 2)\n",
    "        elif row[2] == \"Li\":\n",
    "            Li_count = Li_count + 1\n",
    "            perLi = round((Li_count / vote_count)*100 , 2)\n",
    "        elif row[2] == \"Correy\":\n",
    "            Correy_count = Correy_count + 1\n",
    "            perCorrey = round((Correy_count / vote_count)*100 , 2)\n",
    "        else:\n",
    "            Tooley_count = Tooley_count + 1\n",
    "            perTooley = round((Tooley_count / vote_count)*100 , 2)\n",
    "    \n",
    "    \n",
    "    candidate_count = set(vote_total)\n",
    "    vote_total = len(vote_total)\n",
    "    \n",
    "    vote_dict = {\"Khan\":Khan_count, \"Correy\":Correy_count, \"Li\":Li_count, \"Tooley\":Tooley_count}\n",
    "    winner = max(vote_dict, key = vote_dict.get)\n",
    "    \n",
    "    \n",
    "    print(\"Election Results\")\n",
    "    print(\"---------------------\")\n",
    "    print(\"Total Votes: \" + str(vote_total))\n",
    "    print(\"Khan: \" + str(perKhan) + \"% (\" + str(Khan_count) + \")\")\n",
    "    print(\"Correy: \" + str(perCorrey) + \"% (\" + str(Correy_count) + \")\")\n",
    "    print(\"Li: \" + str(perLi) + \"% (\" + str(Li_count) + \")\")\n",
    "    print(\"O'Tooley: \" + str(perTooley) + \"% (\" + str(Tooley_count) + \")\")\n",
    "    print(\"---------------------\")\n",
    "    print(\"Winner: \" + winner)\n",
    "    print(\"---------------------\")"
   ]
  },
  {
   "cell_type": "code",
   "execution_count": null,
   "metadata": {},
   "outputs": [],
   "source": []
  }
 ],
 "metadata": {
  "kernelspec": {
   "display_name": "Python 3",
   "language": "python",
   "name": "python3"
  },
  "language_info": {
   "codemirror_mode": {
    "name": "ipython",
    "version": 3
   },
   "file_extension": ".py",
   "mimetype": "text/x-python",
   "name": "python",
   "nbconvert_exporter": "python",
   "pygments_lexer": "ipython3",
   "version": "3.7.9"
  }
 },
 "nbformat": 4,
 "nbformat_minor": 4
}
